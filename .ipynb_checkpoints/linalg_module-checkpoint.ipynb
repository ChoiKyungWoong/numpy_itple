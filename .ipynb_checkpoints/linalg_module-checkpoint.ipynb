{
 "cells": [
  {
   "cell_type": "code",
   "execution_count": 1,
   "metadata": {},
   "outputs": [],
   "source": [
    "import numpy as np"
   ]
  },
  {
   "cell_type": "code",
   "execution_count": 2,
   "metadata": {},
   "outputs": [
    {
     "data": {
      "text/plain": [
       "'1.15.4'"
      ]
     },
     "execution_count": 2,
     "metadata": {},
     "output_type": "execute_result"
    }
   ],
   "source": [
    "np.__version__"
   ]
  },
  {
   "cell_type": "code",
   "execution_count": 3,
   "metadata": {},
   "outputs": [
    {
     "name": "stdout",
     "output_type": "stream",
     "text": [
      "LinAlgError\n",
      "absolute_import\n",
      "cholesky\n",
      "cond\n",
      "det\n",
      "division\n",
      "eig\n",
      "eigh\n",
      "eigvals\n",
      "eigvalsh\n",
      "info\n",
      "inv\n",
      "lapack_lite\n",
      "linalg\n",
      "lstsq\n",
      "matrix_power\n",
      "matrix_rank\n",
      "multi_dot\n",
      "norm\n",
      "pinv\n",
      "print_function\n",
      "qr\n",
      "slogdet\n",
      "solve\n",
      "svd\n",
      "tensorinv\n",
      "tensorsolve\n",
      "test\n"
     ]
    }
   ],
   "source": [
    "for i in dir(np.linalg) :\n",
    "    if not i.startswith(\"_\") :\n",
    "        print(i)"
   ]
  },
  {
   "cell_type": "code",
   "execution_count": null,
   "metadata": {},
   "outputs": [],
   "source": []
  },
  {
   "cell_type": "markdown",
   "metadata": {},
   "source": [
    "## 참조주소 \n",
    "\n",
    "    https://docs.scipy.org/doc/numpy-1.15.1/reference/routines.linalg.html"
   ]
  },
  {
   "cell_type": "markdown",
   "metadata": {},
   "source": [
    "# 1. Matrix and vector products"
   ]
  },
  {
   "cell_type": "markdown",
   "metadata": {},
   "source": [
    "### dot(a, b[, out])\n",
    "\n",
    "Dot product of two arrays."
   ]
  },
  {
   "cell_type": "code",
   "execution_count": null,
   "metadata": {},
   "outputs": [],
   "source": []
  },
  {
   "cell_type": "markdown",
   "metadata": {},
   "source": [
    "## linalg.multi_dot(arrays)\n",
    "\n",
    "Compute the dot product of two or more arrays in a single function call,\n",
    "while automatically selecting the fastest evaluation order."
   ]
  },
  {
   "cell_type": "markdown",
   "metadata": {},
   "source": [
    "## vdot(a, b)\n",
    "\n",
    "Return the dot product of two vectors."
   ]
  },
  {
   "cell_type": "markdown",
   "metadata": {},
   "source": [
    "## inner(a, b)\n",
    "\n",
    "Inner product of two arrays."
   ]
  },
  {
   "cell_type": "markdown",
   "metadata": {},
   "source": [
    "## outer(a, b[, out])\n",
    "\n",
    "Compute the outer product of two vectors."
   ]
  },
  {
   "cell_type": "markdown",
   "metadata": {},
   "source": [
    "## matmul(a, b[, out])\t\n",
    "\n",
    "Matrix product of two arrays."
   ]
  },
  {
   "cell_type": "markdown",
   "metadata": {},
   "source": [
    "## tensordot(a, b[, axes])\n",
    "\n",
    "Compute tensor dot product along specified axes for arrays >= 1-D."
   ]
  },
  {
   "cell_type": "markdown",
   "metadata": {},
   "source": [
    "## einsum(subscripts, *operands[, out, dtype, …])\n",
    "\n",
    "Evaluates the Einstein summation convention on the operands."
   ]
  },
  {
   "cell_type": "markdown",
   "metadata": {},
   "source": [
    "## einsum_path(subscripts, *operands[, optimize])\n",
    "\n",
    "Evaluates the lowest cost contraction order for an einsum expression by considering the creation of intermediate arrays."
   ]
  },
  {
   "cell_type": "markdown",
   "metadata": {},
   "source": [
    "## linalg.matrix_power(a, n)\n",
    "\n",
    "Raise a square matrix to the (integer) power n."
   ]
  },
  {
   "cell_type": "markdown",
   "metadata": {},
   "source": [
    "## kron(a, b)\t\n",
    "\n",
    "Kronecker product of two arrays."
   ]
  },
  {
   "cell_type": "code",
   "execution_count": null,
   "metadata": {},
   "outputs": [],
   "source": []
  },
  {
   "cell_type": "markdown",
   "metadata": {},
   "source": [
    "# 2. Decompositions"
   ]
  },
  {
   "cell_type": "markdown",
   "metadata": {},
   "source": [
    "## linalg.cholesky(a)\n",
    "\n",
    "Cholesky decomposition."
   ]
  },
  {
   "cell_type": "markdown",
   "metadata": {},
   "source": [
    "## linalg.qr(a[, mode])\n",
    "\n",
    "Compute the qr factorization of a matrix."
   ]
  },
  {
   "cell_type": "markdown",
   "metadata": {},
   "source": [
    "## linalg.svd(a[, full_matrices, compute_uv])\n",
    "\n",
    "Singular Value Decomposition."
   ]
  },
  {
   "cell_type": "code",
   "execution_count": null,
   "metadata": {},
   "outputs": [],
   "source": []
  },
  {
   "cell_type": "markdown",
   "metadata": {},
   "source": [
    "# 3. Matrix eigenvalues"
   ]
  },
  {
   "cell_type": "markdown",
   "metadata": {},
   "source": [
    "## linalg.eig(a)\n",
    "\n",
    "Compute the eigenvalues and right eigenvectors of a square array."
   ]
  },
  {
   "cell_type": "markdown",
   "metadata": {},
   "source": [
    "## linalg.eigh(a[, UPLO])\n",
    "\n",
    "Return the eigenvalues and eigenvectors of a Hermitian or symmetric matrix."
   ]
  },
  {
   "cell_type": "markdown",
   "metadata": {},
   "source": [
    "## linalg.eigvals(a)\n",
    "\n",
    "Compute the eigenvalues of a general matrix."
   ]
  },
  {
   "cell_type": "markdown",
   "metadata": {},
   "source": [
    "## linalg.eigvalsh(a[, UPLO])\t\n",
    "\n",
    "Compute the eigenvalues of a Hermitian or real symmetric matrix."
   ]
  },
  {
   "cell_type": "markdown",
   "metadata": {},
   "source": [
    "# 4. Norms and other numbers"
   ]
  },
  {
   "cell_type": "markdown",
   "metadata": {},
   "source": [
    "## linalg.norm(x[, ord, axis, keepdims])\n",
    "\n",
    "Matrix or vector norm.\n"
   ]
  },
  {
   "cell_type": "markdown",
   "metadata": {},
   "source": [
    "## linalg.cond(x[, p])\n",
    "\n",
    "Compute the condition number of a matrix."
   ]
  },
  {
   "cell_type": "markdown",
   "metadata": {},
   "source": [
    "## linalg.det(a)\n",
    "\n",
    "Compute the determinant of an array."
   ]
  },
  {
   "cell_type": "markdown",
   "metadata": {},
   "source": [
    "## linalg.matrix_rank(M[, tol, hermitian])\n",
    "\n",
    "Return matrix rank of array using SVD method"
   ]
  },
  {
   "cell_type": "markdown",
   "metadata": {},
   "source": [
    "## linalg.slogdet(a)\n",
    "\n",
    "Compute the sign and (natural) logarithm of the determinant of an array."
   ]
  },
  {
   "cell_type": "markdown",
   "metadata": {},
   "source": [
    "## trace(a[, offset, axis1, axis2, dtype, out])\n",
    "\n",
    "Return the sum along diagonals of the array."
   ]
  },
  {
   "cell_type": "code",
   "execution_count": null,
   "metadata": {},
   "outputs": [],
   "source": []
  },
  {
   "cell_type": "markdown",
   "metadata": {},
   "source": [
    "# 5. Solving equations and inverting matrices"
   ]
  },
  {
   "cell_type": "markdown",
   "metadata": {},
   "source": [
    "## linalg.solve(a, b)\n",
    "\n",
    "Solve a linear matrix equation, or system of linear scalar equations.\n"
   ]
  },
  {
   "cell_type": "markdown",
   "metadata": {},
   "source": [
    "## linalg.tensorsolve(a, b[, axes])\n",
    "\n",
    "Solve the tensor equation a x = b for x."
   ]
  },
  {
   "cell_type": "markdown",
   "metadata": {},
   "source": [
    "## linalg.lstsq(a, b[, rcond])\n",
    "\n",
    "Return the least-squares solution to a linear matrix equation."
   ]
  },
  {
   "cell_type": "markdown",
   "metadata": {},
   "source": [
    "## linalg.inv(a)\n",
    "\n",
    "Compute the (multiplicative) inverse of a matrix."
   ]
  },
  {
   "cell_type": "markdown",
   "metadata": {},
   "source": [
    "## linalg.pinv(a[, rcond])\n",
    "\n",
    "Compute the (Moore-Penrose) pseudo-inverse of a matrix."
   ]
  },
  {
   "cell_type": "markdown",
   "metadata": {},
   "source": [
    "## linalg.tensorinv(a[, ind])\n",
    "\n",
    "Compute the ‘inverse’ of an N-dimensional array."
   ]
  },
  {
   "cell_type": "code",
   "execution_count": null,
   "metadata": {},
   "outputs": [],
   "source": []
  }
 ],
 "metadata": {
  "kernelspec": {
   "display_name": "Python 3",
   "language": "python",
   "name": "python3"
  },
  "language_info": {
   "codemirror_mode": {
    "name": "ipython",
    "version": 3
   },
   "file_extension": ".py",
   "mimetype": "text/x-python",
   "name": "python",
   "nbconvert_exporter": "python",
   "pygments_lexer": "ipython3",
   "version": "3.6.7"
  }
 },
 "nbformat": 4,
 "nbformat_minor": 2
}
